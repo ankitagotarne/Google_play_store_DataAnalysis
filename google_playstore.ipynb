{
 "cells": [
  {
   "cell_type": "code",
   "execution_count": 1,
   "id": "5c15d824",
   "metadata": {},
   "outputs": [],
   "source": [
    "import numpy as np\n",
    "import pandas as pd\n",
    "import matplotlib.pyplot as plt\n",
    "import seaborn as sns\n",
    "import warnings\n",
    "warnings.filterwarnings(\"ignore\")"
   ]
  },
  {
   "cell_type": "code",
   "execution_count": 2,
   "id": "56024d20",
   "metadata": {},
   "outputs": [],
   "source": [
    "df=pd.read_csv(\"googleplaystore.csv\")"
   ]
  },
  {
   "cell_type": "code",
   "execution_count": 3,
   "id": "1e02edb2",
   "metadata": {},
   "outputs": [
    {
     "data": {
      "text/html": [
       "<div>\n",
       "<style scoped>\n",
       "    .dataframe tbody tr th:only-of-type {\n",
       "        vertical-align: middle;\n",
       "    }\n",
       "\n",
       "    .dataframe tbody tr th {\n",
       "        vertical-align: top;\n",
       "    }\n",
       "\n",
       "    .dataframe thead th {\n",
       "        text-align: right;\n",
       "    }\n",
       "</style>\n",
       "<table border=\"1\" class=\"dataframe\">\n",
       "  <thead>\n",
       "    <tr style=\"text-align: right;\">\n",
       "      <th></th>\n",
       "      <th>App</th>\n",
       "      <th>Category</th>\n",
       "      <th>Rating</th>\n",
       "      <th>Reviews</th>\n",
       "      <th>Size</th>\n",
       "      <th>Installs</th>\n",
       "      <th>Type</th>\n",
       "      <th>Price</th>\n",
       "      <th>Content Rating</th>\n",
       "      <th>Genres</th>\n",
       "      <th>Last Updated</th>\n",
       "      <th>Current Ver</th>\n",
       "      <th>Android Ver</th>\n",
       "    </tr>\n",
       "  </thead>\n",
       "  <tbody>\n",
       "    <tr>\n",
       "      <th>0</th>\n",
       "      <td>Photo Editor &amp; Candy Camera &amp; Grid &amp; ScrapBook</td>\n",
       "      <td>ART_AND_DESIGN</td>\n",
       "      <td>4.1</td>\n",
       "      <td>159</td>\n",
       "      <td>19M</td>\n",
       "      <td>10,000+</td>\n",
       "      <td>Free</td>\n",
       "      <td>0</td>\n",
       "      <td>Everyone</td>\n",
       "      <td>Art &amp; Design</td>\n",
       "      <td>January 7, 2018</td>\n",
       "      <td>1.0.0</td>\n",
       "      <td>4.0.3 and up</td>\n",
       "    </tr>\n",
       "    <tr>\n",
       "      <th>1</th>\n",
       "      <td>Coloring book moana</td>\n",
       "      <td>ART_AND_DESIGN</td>\n",
       "      <td>3.9</td>\n",
       "      <td>967</td>\n",
       "      <td>14M</td>\n",
       "      <td>500,000+</td>\n",
       "      <td>Free</td>\n",
       "      <td>0</td>\n",
       "      <td>Everyone</td>\n",
       "      <td>Art &amp; Design;Pretend Play</td>\n",
       "      <td>January 15, 2018</td>\n",
       "      <td>2.0.0</td>\n",
       "      <td>4.0.3 and up</td>\n",
       "    </tr>\n",
       "    <tr>\n",
       "      <th>2</th>\n",
       "      <td>U Launcher Lite – FREE Live Cool Themes, Hide ...</td>\n",
       "      <td>ART_AND_DESIGN</td>\n",
       "      <td>4.7</td>\n",
       "      <td>87510</td>\n",
       "      <td>8.7M</td>\n",
       "      <td>5,000,000+</td>\n",
       "      <td>Free</td>\n",
       "      <td>0</td>\n",
       "      <td>Everyone</td>\n",
       "      <td>Art &amp; Design</td>\n",
       "      <td>August 1, 2018</td>\n",
       "      <td>1.2.4</td>\n",
       "      <td>4.0.3 and up</td>\n",
       "    </tr>\n",
       "    <tr>\n",
       "      <th>3</th>\n",
       "      <td>Sketch - Draw &amp; Paint</td>\n",
       "      <td>ART_AND_DESIGN</td>\n",
       "      <td>4.5</td>\n",
       "      <td>215644</td>\n",
       "      <td>25M</td>\n",
       "      <td>50,000,000+</td>\n",
       "      <td>Free</td>\n",
       "      <td>0</td>\n",
       "      <td>Teen</td>\n",
       "      <td>Art &amp; Design</td>\n",
       "      <td>June 8, 2018</td>\n",
       "      <td>Varies with device</td>\n",
       "      <td>4.2 and up</td>\n",
       "    </tr>\n",
       "    <tr>\n",
       "      <th>4</th>\n",
       "      <td>Pixel Draw - Number Art Coloring Book</td>\n",
       "      <td>ART_AND_DESIGN</td>\n",
       "      <td>4.3</td>\n",
       "      <td>967</td>\n",
       "      <td>2.8M</td>\n",
       "      <td>100,000+</td>\n",
       "      <td>Free</td>\n",
       "      <td>0</td>\n",
       "      <td>Everyone</td>\n",
       "      <td>Art &amp; Design;Creativity</td>\n",
       "      <td>June 20, 2018</td>\n",
       "      <td>1.1</td>\n",
       "      <td>4.4 and up</td>\n",
       "    </tr>\n",
       "  </tbody>\n",
       "</table>\n",
       "</div>"
      ],
      "text/plain": [
       "                                                 App        Category  Rating  \\\n",
       "0     Photo Editor & Candy Camera & Grid & ScrapBook  ART_AND_DESIGN     4.1   \n",
       "1                                Coloring book moana  ART_AND_DESIGN     3.9   \n",
       "2  U Launcher Lite – FREE Live Cool Themes, Hide ...  ART_AND_DESIGN     4.7   \n",
       "3                              Sketch - Draw & Paint  ART_AND_DESIGN     4.5   \n",
       "4              Pixel Draw - Number Art Coloring Book  ART_AND_DESIGN     4.3   \n",
       "\n",
       "   Reviews  Size     Installs  Type Price Content Rating  \\\n",
       "0      159   19M      10,000+  Free     0       Everyone   \n",
       "1      967   14M     500,000+  Free     0       Everyone   \n",
       "2    87510  8.7M   5,000,000+  Free     0       Everyone   \n",
       "3   215644   25M  50,000,000+  Free     0           Teen   \n",
       "4      967  2.8M     100,000+  Free     0       Everyone   \n",
       "\n",
       "                      Genres      Last Updated         Current Ver  \\\n",
       "0               Art & Design   January 7, 2018               1.0.0   \n",
       "1  Art & Design;Pretend Play  January 15, 2018               2.0.0   \n",
       "2               Art & Design    August 1, 2018               1.2.4   \n",
       "3               Art & Design      June 8, 2018  Varies with device   \n",
       "4    Art & Design;Creativity     June 20, 2018                 1.1   \n",
       "\n",
       "    Android Ver  \n",
       "0  4.0.3 and up  \n",
       "1  4.0.3 and up  \n",
       "2  4.0.3 and up  \n",
       "3    4.2 and up  \n",
       "4    4.4 and up  "
      ]
     },
     "execution_count": 3,
     "metadata": {},
     "output_type": "execute_result"
    }
   ],
   "source": [
    "df.head()"
   ]
  },
  {
   "cell_type": "code",
   "execution_count": 4,
   "id": "1ed5a4fa",
   "metadata": {},
   "outputs": [
    {
     "name": "stdout",
     "output_type": "stream",
     "text": [
      "<class 'pandas.core.frame.DataFrame'>\n",
      "RangeIndex: 10840 entries, 0 to 10839\n",
      "Data columns (total 13 columns):\n",
      " #   Column          Non-Null Count  Dtype  \n",
      "---  ------          --------------  -----  \n",
      " 0   App             10840 non-null  object \n",
      " 1   Category        10840 non-null  object \n",
      " 2   Rating          9366 non-null   float64\n",
      " 3   Reviews         10840 non-null  int64  \n",
      " 4   Size            10840 non-null  object \n",
      " 5   Installs        10840 non-null  object \n",
      " 6   Type            10839 non-null  object \n",
      " 7   Price           10840 non-null  object \n",
      " 8   Content Rating  10840 non-null  object \n",
      " 9   Genres          10840 non-null  object \n",
      " 10  Last Updated    10840 non-null  object \n",
      " 11  Current Ver     10832 non-null  object \n",
      " 12  Android Ver     10838 non-null  object \n",
      "dtypes: float64(1), int64(1), object(11)\n",
      "memory usage: 1.1+ MB\n"
     ]
    }
   ],
   "source": [
    "df.info()"
   ]
  },
  {
   "cell_type": "code",
   "execution_count": 5,
   "id": "a85b1c0d",
   "metadata": {},
   "outputs": [
    {
     "data": {
      "text/plain": [
       "App                  0\n",
       "Category             0\n",
       "Rating            1474\n",
       "Reviews              0\n",
       "Size                 0\n",
       "Installs             0\n",
       "Type                 1\n",
       "Price                0\n",
       "Content Rating       0\n",
       "Genres               0\n",
       "Last Updated         0\n",
       "Current Ver          8\n",
       "Android Ver          2\n",
       "dtype: int64"
      ]
     },
     "execution_count": 5,
     "metadata": {},
     "output_type": "execute_result"
    }
   ],
   "source": [
    "df.isna().sum()"
   ]
  },
  {
   "cell_type": "code",
   "execution_count": 6,
   "id": "d0c12e40",
   "metadata": {},
   "outputs": [],
   "source": [
    "df[\"Category\"].fillna(\"Na\",inplace=True)"
   ]
  },
  {
   "cell_type": "code",
   "execution_count": 7,
   "id": "357330be",
   "metadata": {},
   "outputs": [],
   "source": [
    "df[\"Type\"].fillna(\"Na\",inplace=True)"
   ]
  },
  {
   "cell_type": "code",
   "execution_count": 8,
   "id": "1766fb88",
   "metadata": {},
   "outputs": [],
   "source": [
    "df[\"Genres\"].fillna(\"Na\",inplace=True)"
   ]
  },
  {
   "cell_type": "code",
   "execution_count": 9,
   "id": "a6d7499a",
   "metadata": {},
   "outputs": [],
   "source": [
    "df[\"Current Ver\"].fillna(\"Na\",inplace=True)"
   ]
  },
  {
   "cell_type": "code",
   "execution_count": 10,
   "id": "cacddbfb",
   "metadata": {},
   "outputs": [],
   "source": [
    "df[\"Android Ver\"].fillna(\"Na\",inplace=True)"
   ]
  },
  {
   "cell_type": "code",
   "execution_count": 11,
   "id": "4432dd7c",
   "metadata": {},
   "outputs": [],
   "source": [
    "df[\"Rating\"].fillna(df[\"Rating\"].mean(),inplace=True)"
   ]
  },
  {
   "cell_type": "code",
   "execution_count": 12,
   "id": "a512c885",
   "metadata": {},
   "outputs": [
    {
     "data": {
      "text/plain": [
       "App               0\n",
       "Category          0\n",
       "Rating            0\n",
       "Reviews           0\n",
       "Size              0\n",
       "Installs          0\n",
       "Type              0\n",
       "Price             0\n",
       "Content Rating    0\n",
       "Genres            0\n",
       "Last Updated      0\n",
       "Current Ver       0\n",
       "Android Ver       0\n",
       "dtype: int64"
      ]
     },
     "execution_count": 12,
     "metadata": {},
     "output_type": "execute_result"
    }
   ],
   "source": [
    "df.isna().sum()"
   ]
  },
  {
   "cell_type": "code",
   "execution_count": 13,
   "id": "daaccc3b",
   "metadata": {},
   "outputs": [],
   "source": [
    "df[\"Price\"]=df[\"Price\"].str.replace(\"$\",\"\").astype(\"float\")"
   ]
  },
  {
   "cell_type": "code",
   "execution_count": 14,
   "id": "9e3f4b81",
   "metadata": {},
   "outputs": [
    {
     "data": {
      "text/plain": [
       "(10840, 13)"
      ]
     },
     "execution_count": 14,
     "metadata": {},
     "output_type": "execute_result"
    }
   ],
   "source": [
    "df.shape"
   ]
  },
  {
   "cell_type": "code",
   "execution_count": 15,
   "id": "85671d79",
   "metadata": {},
   "outputs": [],
   "source": [
    "df.drop_duplicates(inplace=True)"
   ]
  },
  {
   "cell_type": "code",
   "execution_count": 16,
   "id": "c5a0e372",
   "metadata": {},
   "outputs": [
    {
     "data": {
      "text/plain": [
       "(10357, 13)"
      ]
     },
     "execution_count": 16,
     "metadata": {},
     "output_type": "execute_result"
    }
   ],
   "source": [
    "df.shape"
   ]
  },
  {
   "cell_type": "code",
   "execution_count": 17,
   "id": "240561a6",
   "metadata": {},
   "outputs": [
    {
     "name": "stdout",
     "output_type": "stream",
     "text": [
      "<class 'pandas.core.frame.DataFrame'>\n",
      "Int64Index: 10357 entries, 0 to 10839\n",
      "Data columns (total 13 columns):\n",
      " #   Column          Non-Null Count  Dtype  \n",
      "---  ------          --------------  -----  \n",
      " 0   App             10357 non-null  object \n",
      " 1   Category        10357 non-null  object \n",
      " 2   Rating          10357 non-null  float64\n",
      " 3   Reviews         10357 non-null  int64  \n",
      " 4   Size            10357 non-null  object \n",
      " 5   Installs        10357 non-null  object \n",
      " 6   Type            10357 non-null  object \n",
      " 7   Price           10357 non-null  float64\n",
      " 8   Content Rating  10357 non-null  object \n",
      " 9   Genres          10357 non-null  object \n",
      " 10  Last Updated    10357 non-null  object \n",
      " 11  Current Ver     10357 non-null  object \n",
      " 12  Android Ver     10357 non-null  object \n",
      "dtypes: float64(2), int64(1), object(10)\n",
      "memory usage: 1.1+ MB\n"
     ]
    }
   ],
   "source": [
    "df.info()"
   ]
  },
  {
   "cell_type": "code",
   "execution_count": 18,
   "id": "a46c1f8a",
   "metadata": {},
   "outputs": [
    {
     "data": {
      "text/plain": [
       "<AxesSubplot:xlabel='Rating', ylabel='Category'>"
      ]
     },
     "execution_count": 18,
     "metadata": {},
     "output_type": "execute_result"
    },
    {
     "data": {
      "image/png": "[encoded data removed]",
      "text/plain": [
       "<Figure size 864x576 with 1 Axes>"
      ]
     },
     "metadata": {
      "needs_background": "light"
     },
     "output_type": "display_data"
    }
   ],
   "source": [
    "plt.figure(figsize=(12,8))\n",
    "sns.boxplot(data=df,x=\"Rating\",y=\"Category\")"
   ]
  },
  {
   "cell_type": "markdown",
   "id": "44372ced",
   "metadata": {},
   "source": [
    "#### Most of the Ratings are in between 3.5 to 4.5 for each category"
   ]
  },
  {
   "cell_type": "markdown",
   "id": "f6cbfde5",
   "metadata": {},
   "source": [
    "### Free Vs Paid app"
   ]
  },
  {
   "cell_type": "code",
   "execution_count": 19,
   "id": "6d9fe89a",
   "metadata": {},
   "outputs": [
    {
     "data": {
      "text/plain": [
       "Free    9591\n",
       "Paid     765\n",
       "Na         1\n",
       "Name: Type, dtype: int64"
      ]
     },
     "execution_count": 19,
     "metadata": {},
     "output_type": "execute_result"
    }
   ],
   "source": [
    "df[\"Type\"].value_counts()"
   ]
  },
  {
   "cell_type": "code",
   "execution_count": 20,
   "id": "fa072838",
   "metadata": {},
   "outputs": [],
   "source": [
    "x=[10040,800]\n",
    "y=[\"Free\",\"Paid\"]"
   ]
  },
  {
   "cell_type": "code",
   "execution_count": 21,
   "id": "4021eb94",
   "metadata": {},
   "outputs": [
    {
     "data": {
      "text/plain": [
       "([<matplotlib.patches.Wedge at 0x292f62c5610>,\n",
       "  <matplotlib.patches.Wedge at 0x292f62c5d00>],\n",
       " [Text(-1.070566794830964, 0.2527582596184673, 'Free'),\n",
       "  Text(1.0705667889147297, -0.2527582846768919, 'Paid')],\n",
       " [Text(-0.5839455244532531, 0.13786814161007305, '92.6%'),\n",
       "  Text(0.5839455212262161, -0.13786815527830465, '7.4%')])"
      ]
     },
     "execution_count": 21,
     "metadata": {},
     "output_type": "execute_result"
    },
    {
     "data": {
      "image/png": "[encoded data removed]",
      "text/plain": [
       "<Figure size 432x288 with 1 Axes>"
      ]
     },
     "metadata": {},
     "output_type": "display_data"
    }
   ],
   "source": [
    "plt.pie(x,labels=y,autopct='%1.1f%%')"
   ]
  },
  {
   "cell_type": "markdown",
   "id": "d15d0b4f",
   "metadata": {},
   "source": [
    "#### User prefer free version rather than paid & only 7.4% user used paid service"
   ]
  },
  {
   "cell_type": "code",
   "execution_count": 22,
   "id": "c636141b",
   "metadata": {},
   "outputs": [
    {
     "data": {
      "text/plain": [
       "<AxesSubplot:>"
      ]
     },
     "execution_count": 22,
     "metadata": {},
     "output_type": "execute_result"
    },
    {
     "data": {
      "image/png": "[encoded data removed]",
      "text/plain": [
       "<Figure size 864x576 with 1 Axes>"
      ]
     },
     "metadata": {
      "needs_background": "light"
     },
     "output_type": "display_data"
    }
   ],
   "source": [
    "plt.figure(figsize=(12,8))\n",
    "df[df[\"Type\"]==\"Paid\"][\"Genres\"].value_counts().plot(kind=\"bar\")"
   ]
  },
  {
   "cell_type": "markdown",
   "id": "60fc62a7",
   "metadata": {},
   "source": [
    "#### Medical field users used paid version most\n",
    "If bring more app related to medical then there is chance to increase paid type"
   ]
  },
  {
   "cell_type": "markdown",
   "id": "e2cd1d29",
   "metadata": {},
   "source": [
    "### Maximum installated App"
   ]
  },
  {
   "cell_type": "code",
   "execution_count": 23,
   "id": "d5d0eae3",
   "metadata": {},
   "outputs": [
    {
     "data": {
      "text/plain": [
       "'500,000,000+'"
      ]
     },
     "execution_count": 23,
     "metadata": {},
     "output_type": "execute_result"
    }
   ],
   "source": [
    "df[\"Installs\"].max()"
   ]
  },
  {
   "cell_type": "code",
   "execution_count": 24,
   "id": "bc34ae27",
   "metadata": {},
   "outputs": [
    {
     "data": {
      "text/plain": [
       "Candy Crush Saga                                      5\n",
       "Temple Run 2                                          5\n",
       "Snapchat                                              4\n",
       "Pou                                                   4\n",
       "Viber Messenger                                       4\n",
       "Microsoft Word                                        3\n",
       "Dropbox                                               3\n",
       "Google Calendar                                       3\n",
       "MX Player                                             3\n",
       "My Talking Tom                                        3\n",
       "Gboard - the Google Keyboard                          3\n",
       "LINE: Free Calls & Messages                           2\n",
       "SHAREit - Transfer & Share                            2\n",
       "Flipboard: News For Our Time                          2\n",
       "Facebook Lite                                         2\n",
       "Google Translate                                      2\n",
       "Twitter                                               2\n",
       "UC Browser - Fast Download Private & Secure           2\n",
       "imo free video calls and chat                         2\n",
       "Security Master - Antivirus, VPN, AppLock, Booster    1\n",
       "Cloud Print                                           1\n",
       "Clean Master- Space Cleaner & Antivirus               1\n",
       "Google Duo - High Quality Video Calls                 1\n",
       "Samsung Health                                        1\n",
       "Name: App, dtype: int64"
      ]
     },
     "execution_count": 24,
     "metadata": {},
     "output_type": "execute_result"
    }
   ],
   "source": [
    "df[df[\"Installs\"]==\"500,000,000+\"][\"App\"].value_counts()"
   ]
  },
  {
   "cell_type": "code",
   "execution_count": 25,
   "id": "7fce4e6e",
   "metadata": {},
   "outputs": [
    {
     "data": {
      "text/plain": [
       "GAME                  14\n",
       "COMMUNICATION         11\n",
       "PRODUCTIVITY          10\n",
       "TOOLS                  9\n",
       "SOCIAL                 6\n",
       "NEWS_AND_MAGAZINES     4\n",
       "FAMILY                 3\n",
       "VIDEO_PLAYERS          3\n",
       "HEALTH_AND_FITNESS     1\n",
       "Name: Category, dtype: int64"
      ]
     },
     "execution_count": 25,
     "metadata": {},
     "output_type": "execute_result"
    }
   ],
   "source": [
    "df[df[\"Installs\"]==\"500,000,000+\"][\"Category\"].value_counts()"
   ]
  },
  {
   "cell_type": "markdown",
   "id": "483377ed",
   "metadata": {},
   "source": [
    "#### Maximum installed app categories are game and communication\n",
    "If new version or updation bring on this category then installation number will increase"
   ]
  },
  {
   "cell_type": "markdown",
   "id": "ad27a42f",
   "metadata": {},
   "source": [
    "### Least installed App"
   ]
  },
  {
   "cell_type": "code",
   "execution_count": 26,
   "id": "d61b51c7",
   "metadata": {},
   "outputs": [
    {
     "data": {
      "text/plain": [
       "1,000,000+        1488\n",
       "10,000,000+       1132\n",
       "100,000+          1129\n",
       "10,000+           1033\n",
       "1,000+             890\n",
       "100+               710\n",
       "5,000,000+         683\n",
       "500,000+           517\n",
       "50,000+            474\n",
       "5,000+             469\n",
       "10+                385\n",
       "100,000,000+       369\n",
       "500+               328\n",
       "50,000,000+        272\n",
       "50+                204\n",
       "5+                  82\n",
       "1+                  67\n",
       "500,000,000+        61\n",
       "1,000,000,000+      49\n",
       "0+                  14\n",
       "0                    1\n",
       "Name: Installs, dtype: int64"
      ]
     },
     "execution_count": 26,
     "metadata": {},
     "output_type": "execute_result"
    }
   ],
   "source": [
    "df[\"Installs\"].value_counts()"
   ]
  },
  {
   "cell_type": "code",
   "execution_count": 27,
   "id": "cc86b222",
   "metadata": {},
   "outputs": [
    {
     "data": {
      "text/plain": [
       "14"
      ]
     },
     "execution_count": 27,
     "metadata": {},
     "output_type": "execute_result"
    }
   ],
   "source": [
    "df[(df[\"Installs\"]=='0+')&(df[\"Installs\"]<'1+')][\"App\"].count()"
   ]
  },
  {
   "cell_type": "code",
   "execution_count": 28,
   "id": "336b4db6",
   "metadata": {},
   "outputs": [
    {
     "data": {
      "text/plain": [
       "CX Network                                      1\n",
       "Eu sou Rico                                     1\n",
       "Test Application DT 02                          1\n",
       "Pekalongan CJ                                   1\n",
       "Ak Parti Yardım Toplama                         1\n",
       "I'm Rich/Eu sou Rico/أنا غني/我很有錢               1\n",
       "Popsicle Launcher for Android P 9.0 launcher    1\n",
       "AP Series Solution Pro                          1\n",
       "cronometra-br                                   1\n",
       "Sweden Newspapers                               1\n",
       "EP Cook Book                                    1\n",
       "Eu Sou Rico                                     1\n",
       "EG | Explore Folegandros                        1\n",
       "Ain Arabic Kids Alif Ba ta                      1\n",
       "Name: App, dtype: int64"
      ]
     },
     "execution_count": 28,
     "metadata": {},
     "output_type": "execute_result"
    }
   ],
   "source": [
    "df[(df[\"Installs\"]=='0+')&(df[\"Installs\"]<'1+')][\"App\"].value_counts()"
   ]
  },
  {
   "cell_type": "markdown",
   "id": "fceff985",
   "metadata": {},
   "source": [
    "#### 14 apps installed less"
   ]
  },
  {
   "cell_type": "markdown",
   "id": "777fdffb",
   "metadata": {},
   "source": [
    "### Pricey App"
   ]
  },
  {
   "cell_type": "code",
   "execution_count": 29,
   "id": "d9e77c4b",
   "metadata": {},
   "outputs": [
    {
     "data": {
      "text/plain": [
       "400.0"
      ]
     },
     "execution_count": 29,
     "metadata": {},
     "output_type": "execute_result"
    }
   ],
   "source": [
    "df[\"Price\"].max()"
   ]
  },
  {
   "cell_type": "code",
   "execution_count": 30,
   "id": "11ac2f61",
   "metadata": {},
   "outputs": [
    {
     "data": {
      "text/plain": [
       "4367    I'm Rich - Trump Edition\n",
       "Name: App, dtype: object"
      ]
     },
     "execution_count": 30,
     "metadata": {},
     "output_type": "execute_result"
    }
   ],
   "source": [
    "df[df[\"Price\"]==400.0][\"App\"]"
   ]
  },
  {
   "cell_type": "code",
   "execution_count": 31,
   "id": "8b082f83",
   "metadata": {},
   "outputs": [
    {
     "data": {
      "text/plain": [
       "4367    10,000+\n",
       "Name: Installs, dtype: object"
      ]
     },
     "execution_count": 31,
     "metadata": {},
     "output_type": "execute_result"
    }
   ],
   "source": [
    "df[df[\"Price\"]==400.0][\"Installs\"]"
   ]
  },
  {
   "cell_type": "code",
   "execution_count": 32,
   "id": "4b7b5238",
   "metadata": {},
   "outputs": [
    {
     "data": {
      "text/plain": [
       "4367    3.6\n",
       "Name: Rating, dtype: float64"
      ]
     },
     "execution_count": 32,
     "metadata": {},
     "output_type": "execute_result"
    }
   ],
   "source": [
    "df[df[\"Price\"]==400.0][\"Rating\"]"
   ]
  },
  {
   "cell_type": "markdown",
   "id": "1ac724d7",
   "metadata": {},
   "source": [
    "#### I'm Rich - Trump Edition App has most pricey and 10,000+ user installled it but rating for this app is average \n",
    "If app developer work on app as per user rating then rating and installation of this app can be increse"
   ]
  },
  {
   "cell_type": "markdown",
   "id": "14d05d20",
   "metadata": {},
   "source": [
    "### Lowest rated Apps"
   ]
  },
  {
   "cell_type": "code",
   "execution_count": 33,
   "id": "5f0c2734",
   "metadata": {},
   "outputs": [
    {
     "data": {
      "text/plain": [
       "1.0"
      ]
     },
     "execution_count": 33,
     "metadata": {},
     "output_type": "execute_result"
    }
   ],
   "source": [
    "df[\"Rating\"].min()"
   ]
  },
  {
   "cell_type": "code",
   "execution_count": 34,
   "id": "a361353e",
   "metadata": {},
   "outputs": [
    {
     "data": {
      "text/plain": [
       "625                               House party - live chat\n",
       "4127                                    Speech Therapy: F\n",
       "5151                                        Clarksburg AH\n",
       "5978                        Truck Driving Test Class 3 BC\n",
       "6319                     BJ Bridge Standard American 2018\n",
       "6490                                               MbH BM\n",
       "7144                                        CB Mobile Biz\n",
       "7383                                       Thistletown CI\n",
       "7427                                       CJ DVD Rentals\n",
       "7806                                          CR Magazine\n",
       "7926                                 Tech CU Card Manager\n",
       "8820                                       DS Creator 2.0\n",
       "8875                                       DT future1 cam\n",
       "10324                      FE Mechanical Engineering Prep\n",
       "10400             Familial Hypercholesterolaemia Handbook\n",
       "10590    Lottery Ticket Checker - Florida Results & Lotto\n",
       "Name: App, dtype: object"
      ]
     },
     "execution_count": 34,
     "metadata": {},
     "output_type": "execute_result"
    }
   ],
   "source": [
    "df[df[\"Rating\"]==1.0][\"App\"]"
   ]
  },
  {
   "cell_type": "code",
   "execution_count": 35,
   "id": "55c56cd1",
   "metadata": {},
   "outputs": [
    {
     "data": {
      "text/plain": [
       "16"
      ]
     },
     "execution_count": 35,
     "metadata": {},
     "output_type": "execute_result"
    }
   ],
   "source": [
    "df[df[\"Rating\"]==1.0][\"App\"].count()"
   ]
  },
  {
   "cell_type": "markdown",
   "id": "0172edfc",
   "metadata": {},
   "source": [
    "#### 16 Apps rated low \n",
    "App maker need to work on rating and make it as per user requirement so they can increse there app rating"
   ]
  },
  {
   "cell_type": "markdown",
   "id": "79a05e91",
   "metadata": {},
   "source": [
    "## Conclusion:\n",
    "    1)Average rating of each category app has in between 3.5 to 4 star\n",
    "    2)92.6% user use free app and only 7.4% user used paid app\n",
    "    3)The most paid apps used by users are in the medical category.\n",
    "    4)Maximum apps installed from the game and communication categories.\n",
    "    5)14 apps has been installed less.\n",
    "    6)The costliest app is \"I'm Rich - Trump Edition\",this has been installed by 10K+ user.However,the app has an average\n",
    "    rating\n",
    "    7)There are 16 apps which have received only 1 star rating"
   ]
  },
  {
   "cell_type": "markdown",
   "id": "bd231b73",
   "metadata": {},
   "source": [
    "## Result:\n",
    "    1)User prefer free app rather than paid.But most paid version belong to the medical category.However,this does indicate\n",
    "    that medical apps can be more paying to the developer.\n",
    "    2)The most installed apps are in games and communication category.If more and more apps are launched and the apps will \n",
    "    update constantly in this category then more user will install app.\n",
    "    3)\"I'm Rich - Trump Edition\" App has most pricey and 10,000+ user installled it but rating for this app is average.\n",
    "    So app developer work on app as per user reviews then rating and installation of this app can be increse.\n",
    "    4)There are 16 apps received low(1 star) rating so app delevoper need to work on app as per user reviews that can help \n",
    "    to get good ratings and increase installation number."
   ]
  },
  {
   "cell_type": "markdown",
   "id": "bf8b8ffe",
   "metadata": {},
   "source": [
    "## Thank You..."
   ]
  }
 ],
 "metadata": {
  "kernelspec": {
   "display_name": "Python 3",
   "language": "python",
   "name": "python3"
  },
  "language_info": {
   "codemirror_mode": {
    "name": "ipython",
    "version": 3
   },
   "file_extension": ".py",
   "mimetype": "text/x-python",
   "name": "python",
   "nbconvert_exporter": "python",
   "pygments_lexer": "ipython3",
   "version": "3.8.8"
  }
 },
 "nbformat": 4,
 "nbformat_minor": 5
}
